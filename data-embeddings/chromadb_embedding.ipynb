{
 "cells": [
  {
   "cell_type": "code",
   "execution_count": 1,
   "id": "0494edd6",
   "metadata": {},
   "outputs": [],
   "source": [
    "import pandas as pd"
   ]
  },
  {
   "cell_type": "code",
   "execution_count": 5,
   "id": "29c1832e",
   "metadata": {},
   "outputs": [],
   "source": [
    "import json\n",
    "\n",
    "# Open the file and read it line by line\n",
    "with open(\"../data_processor/output.json/part-00000-5dd32624-2335-47aa-8868-c37949a50289-c000.json\", \"r\") as f:\n",
    "    lines = f.readlines()\n",
    "\n",
    "# Parse each line as a separate JSON object\n",
    "data = [json.loads(line) for line in lines]\n",
    "\n",
    "# Convert the list of JSON objects into a DataFrame\n",
    "df = pd.DataFrame(data)"
   ]
  },
  {
   "cell_type": "code",
   "execution_count": 6,
   "id": "ddec307c",
   "metadata": {},
   "outputs": [
    {
     "data": {
      "application/vnd.microsoft.datawrangler.viewer.v0+json": {
       "columns": [
        {
         "name": "index",
         "rawType": "int64",
         "type": "integer"
        },
        {
         "name": "id_left",
         "rawType": "int64",
         "type": "integer"
        },
        {
         "name": "category_left",
         "rawType": "object",
         "type": "string"
        },
        {
         "name": "cluster_id_left",
         "rawType": "int64",
         "type": "integer"
        },
        {
         "name": "brand_left",
         "rawType": "object",
         "type": "unknown"
        },
        {
         "name": "title_left",
         "rawType": "object",
         "type": "string"
        },
        {
         "name": "description_left",
         "rawType": "object",
         "type": "string"
        },
        {
         "name": "price_left",
         "rawType": "object",
         "type": "string"
        },
        {
         "name": "id_right",
         "rawType": "int64",
         "type": "integer"
        },
        {
         "name": "category_right",
         "rawType": "object",
         "type": "string"
        },
        {
         "name": "cluster_id_right",
         "rawType": "int64",
         "type": "integer"
        },
        {
         "name": "brand_right",
         "rawType": "object",
         "type": "unknown"
        },
        {
         "name": "title_right",
         "rawType": "object",
         "type": "string"
        },
        {
         "name": "description_right",
         "rawType": "object",
         "type": "unknown"
        },
        {
         "name": "price_right",
         "rawType": "object",
         "type": "string"
        }
       ],
       "conversionMethod": "pd.DataFrame",
       "ref": "c878d465-350a-4530-8cad-944706af2b63",
       "rows": [
        [
         "0",
         "15548233",
         "Camera_and_Photo",
         "220397",
         "\"IBM\"",
         " \"IBM E445748 ABT 8MB 72p 70ns 24c 1x4 Parity FPM SIMM C2066A\"",
         " \"E445748 ABT 8MB 72p 70ns 24c 1x4 Parity FPM SIMM C2066A\"",
         "\"9.98\", \"USD\"",
         "6849009",
         "Camera_and_Photo",
         "220397",
         "\"Major/3rd\"",
         " C2066A - not valid 3LC\" \"Major/3rd 92G7208 ABT 8MB 72p 70ns 20c 1x4 Parity FPM SIMM",
         " \"92G7208 ABT 8MB 72p 70ns 20c 1x4 Parity FPM SIMM C2066A - not valid 3LC\"",
         "\"9.98\", \"USD\""
        ],
        [
         "1",
         "11880567",
         "Camera_and_Photo",
         "859876",
         null,
         " \"Canon EF macro lens\" \" Canon lens - 3554B002 Camera & Camcorder Lenses CDW.com",
         "\"Canon's \"L\" series lens is its first mid-telephoto macro lens to include Canon's sophisticated image stabilization. With the highest quality optics available, combined with near-silent ultrasonic focusing and life-size close-up capabilities without an adapter, the EF 100mm f/2.8L Macro IS USM is simply unrivaled.This is the first lens on the market to incorporate Canon's Hybrid Image Stabilization technology. Hybrid IS effectively compensates for both angular and shift camera shake during close-up shooting. The lens was developed to expand users' photographing range and allow a wider range of users to easily enjoy macro photography.\" ",
         "\"$\", \"1,019.99\"",
         "17557441",
         "Camera_and_Photo",
         "1516956",
         "\"Canon\"",
         " \"EF 40mm f/2.8 STM Pancake Lens\"",
         null,
         "\"149.00\", \"USD\""
        ],
        [
         "2",
         "9664342",
         "Camera_and_Photo",
         "1105105",
         null,
         " \"Canon EF zoom lens - 24 mm 70 mm\" \" Canon 6313B002 Camera & Camcorder Lenses CDW.com",
         "\"The EF 24-70mm f/4L IS USM is the perfect zoom to complement full-frame DSLRs like the EOS 6D. With 2 aspheric and 2 UD elements, the EF 24-70 mm f/4L IS USM delivers high- quality images with excellent detail throughout the entire zoom range. A 9-blade circular diaphragm delivers beautiful, soft backgrounds. It offers a minimum focusing distance of 1.25 ft./0.38 m across the entire zoom range and has a macro mode at the telephoto end with up to 0.7x magnification (minimum focusing distance becomes 7.87 in./0.2 m) and is easily accessible with a one-touch switch. It features a Hybrid IS system with up to 4 stops of stabilization, compensating for both angular and shift types of camera shake, delivering effective stabilization even in macro. Inner focusing and ring-type USM deliver, fast, quiet AF, and full-time manual focus is available for manual focusing even while in AF mode. The durable EF 24-70 mm f/4L IS USM is sealed for excellent dust and water resistance plus has fluorine coating on the front and rear elements reducing smears and fingerprints. Compact and lightweight, it's the perfect L-series lens for photographers on the go.\" ",
         "\"$\", \"1,019.99\"",
         "8042095",
         "Camera_and_Photo",
         "53429",
         null,
         " \"Canon EF telephoto zoom lens - 70 mm 300 mm\" \" Canon 4426B002 Camera & Camcorder Lenses CDW.com",
         "\"Designed to deliver ultra-high quality images along with lightning fast operation, the Canon EF 70-300 f/4-5.6L IS USM telephoto zoom lens brings a favorite zoom range to the celebrated Canon L-series of lenses. It features two Ultra Low Dispersion (UD) elements for improved image quality and reduced chromatic aberration, incorporates a floating focusing mechanism for sharpness from close up to infinity, plus an IS system that increases usability by approximately four stops. The EF 70-300 f/4-5.6L IS USM features a function that prevents erroneous operation when the lens is mounted on a tripod or monopod. Gleaming white, with a removable tripod collar, dust and water resistant construction, and a newly developed Fluorine coating that keeps soiling, smears and fingerprints to a minimum, its phenomenal performance and flexibility is assured. For portraiture or to bring what's far away up close, this addition to the L-series is guaranteed to perform.\" ",
         "\"$\", \"1,527.99\""
        ],
        [
         "3",
         "11880567",
         "Camera_and_Photo",
         "859876",
         null,
         " \"Canon EF macro lens\" \" Canon lens - 3554B002 Camera & Camcorder Lenses CDW.com",
         "\"Canon's \"L\" series lens is its first mid-telephoto macro lens to include Canon's sophisticated image stabilization. With the highest quality optics available, combined with near-silent ultrasonic focusing and life-size close-up capabilities without an adapter, the EF 100mm f/2.8L Macro IS USM is simply unrivaled.This is the first lens on the market to incorporate Canon's Hybrid Image Stabilization technology. Hybrid IS effectively compensates for both angular and shift camera shake during close-up shooting. The lens was developed to expand users' photographing range and allow a wider range of users to easily enjoy macro photography.\" ",
         "\"$\", \"1,019.99\"",
         "17557430",
         "Camera_and_Photo",
         "859876",
         "\"Canon\"",
         " \"EF 100mm f/2.8L Macro IS USM Lens\"",
         null,
         "\"USD\", \"749.00\""
        ],
        [
         "4",
         "4401122",
         "Camera_and_Photo",
         "124647",
         "\"Sandisk\"",
         " \"Sandisk 64GB Extreme Plus SDSDQXN-064G microSDHC Card r60MB/s w40MB/s\"",
         " media players video cameras and other flash devices\" \"64GB Sandisk Extreme microSDHC 8-pin Class 10 UHS-I U3 up to 60MB/s Read 40MB/s Write 2.7V 3.3V voltage support 15 mm x 11mm 1.0 Secure Digital High Capacity Card for digital",
         "\"USD\", \"41.85\"",
         "3612818",
         "Camera_and_Photo",
         "11569",
         "\"Transcend\"",
         " \"Transcend TS64GSDXC10 CVK 64GB 9p SDXC Class 10 Secure Digital Extended Capacity Card\"",
         " \"TS64GSDXC10 CVK 64GB 9p SDXC Class 10 Secure Digital Extended Capacity Card\"",
         "\"USD\", \"62.85\""
        ]
       ],
       "shape": {
        "columns": 14,
        "rows": 5
       }
      },
      "text/html": [
       "<div>\n",
       "<style scoped>\n",
       "    .dataframe tbody tr th:only-of-type {\n",
       "        vertical-align: middle;\n",
       "    }\n",
       "\n",
       "    .dataframe tbody tr th {\n",
       "        vertical-align: top;\n",
       "    }\n",
       "\n",
       "    .dataframe thead th {\n",
       "        text-align: right;\n",
       "    }\n",
       "</style>\n",
       "<table border=\"1\" class=\"dataframe\">\n",
       "  <thead>\n",
       "    <tr style=\"text-align: right;\">\n",
       "      <th></th>\n",
       "      <th>id_left</th>\n",
       "      <th>category_left</th>\n",
       "      <th>cluster_id_left</th>\n",
       "      <th>brand_left</th>\n",
       "      <th>title_left</th>\n",
       "      <th>description_left</th>\n",
       "      <th>price_left</th>\n",
       "      <th>id_right</th>\n",
       "      <th>category_right</th>\n",
       "      <th>cluster_id_right</th>\n",
       "      <th>brand_right</th>\n",
       "      <th>title_right</th>\n",
       "      <th>description_right</th>\n",
       "      <th>price_right</th>\n",
       "    </tr>\n",
       "  </thead>\n",
       "  <tbody>\n",
       "    <tr>\n",
       "      <th>0</th>\n",
       "      <td>15548233</td>\n",
       "      <td>Camera_and_Photo</td>\n",
       "      <td>220397</td>\n",
       "      <td>\"IBM\"</td>\n",
       "      <td>\"IBM E445748 ABT 8MB 72p 70ns 24c 1x4 Parity ...</td>\n",
       "      <td>\"E445748 ABT 8MB 72p 70ns 24c 1x4 Parity FPM ...</td>\n",
       "      <td>\"9.98\", \"USD\"</td>\n",
       "      <td>6849009</td>\n",
       "      <td>Camera_and_Photo</td>\n",
       "      <td>220397</td>\n",
       "      <td>\"Major/3rd\"</td>\n",
       "      <td>C2066A - not valid 3LC\" \"Major/3rd 92G7208 AB...</td>\n",
       "      <td>\"92G7208 ABT 8MB 72p 70ns 20c 1x4 Parity FPM ...</td>\n",
       "      <td>\"9.98\", \"USD\"</td>\n",
       "    </tr>\n",
       "    <tr>\n",
       "      <th>1</th>\n",
       "      <td>11880567</td>\n",
       "      <td>Camera_and_Photo</td>\n",
       "      <td>859876</td>\n",
       "      <td>NaN</td>\n",
       "      <td>\"Canon EF macro lens\" \" Canon lens - 3554B002...</td>\n",
       "      <td>\"Canon's \"L\" series lens is its first mid-tele...</td>\n",
       "      <td>\"$\", \"1,019.99\"</td>\n",
       "      <td>17557441</td>\n",
       "      <td>Camera_and_Photo</td>\n",
       "      <td>1516956</td>\n",
       "      <td>\"Canon\"</td>\n",
       "      <td>\"EF 40mm f/2.8 STM Pancake Lens\"</td>\n",
       "      <td>NaN</td>\n",
       "      <td>\"149.00\", \"USD\"</td>\n",
       "    </tr>\n",
       "    <tr>\n",
       "      <th>2</th>\n",
       "      <td>9664342</td>\n",
       "      <td>Camera_and_Photo</td>\n",
       "      <td>1105105</td>\n",
       "      <td>NaN</td>\n",
       "      <td>\"Canon EF zoom lens - 24 mm 70 mm\" \" Canon 63...</td>\n",
       "      <td>\"The EF 24-70mm f/4L IS USM is the perfect zoo...</td>\n",
       "      <td>\"$\", \"1,019.99\"</td>\n",
       "      <td>8042095</td>\n",
       "      <td>Camera_and_Photo</td>\n",
       "      <td>53429</td>\n",
       "      <td>NaN</td>\n",
       "      <td>\"Canon EF telephoto zoom lens - 70 mm 300 mm\"...</td>\n",
       "      <td>\"Designed to deliver ultra-high quality images...</td>\n",
       "      <td>\"$\", \"1,527.99\"</td>\n",
       "    </tr>\n",
       "    <tr>\n",
       "      <th>3</th>\n",
       "      <td>11880567</td>\n",
       "      <td>Camera_and_Photo</td>\n",
       "      <td>859876</td>\n",
       "      <td>NaN</td>\n",
       "      <td>\"Canon EF macro lens\" \" Canon lens - 3554B002...</td>\n",
       "      <td>\"Canon's \"L\" series lens is its first mid-tele...</td>\n",
       "      <td>\"$\", \"1,019.99\"</td>\n",
       "      <td>17557430</td>\n",
       "      <td>Camera_and_Photo</td>\n",
       "      <td>859876</td>\n",
       "      <td>\"Canon\"</td>\n",
       "      <td>\"EF 100mm f/2.8L Macro IS USM Lens\"</td>\n",
       "      <td>NaN</td>\n",
       "      <td>\"USD\", \"749.00\"</td>\n",
       "    </tr>\n",
       "    <tr>\n",
       "      <th>4</th>\n",
       "      <td>4401122</td>\n",
       "      <td>Camera_and_Photo</td>\n",
       "      <td>124647</td>\n",
       "      <td>\"Sandisk\"</td>\n",
       "      <td>\"Sandisk 64GB Extreme Plus SDSDQXN-064G micro...</td>\n",
       "      <td>media players video cameras and other flash d...</td>\n",
       "      <td>\"USD\", \"41.85\"</td>\n",
       "      <td>3612818</td>\n",
       "      <td>Camera_and_Photo</td>\n",
       "      <td>11569</td>\n",
       "      <td>\"Transcend\"</td>\n",
       "      <td>\"Transcend TS64GSDXC10 CVK 64GB 9p SDXC Class...</td>\n",
       "      <td>\"TS64GSDXC10 CVK 64GB 9p SDXC Class 10 Secure...</td>\n",
       "      <td>\"USD\", \"62.85\"</td>\n",
       "    </tr>\n",
       "  </tbody>\n",
       "</table>\n",
       "</div>"
      ],
      "text/plain": [
       "    id_left     category_left  cluster_id_left brand_left  \\\n",
       "0  15548233  Camera_and_Photo           220397      \"IBM\"   \n",
       "1  11880567  Camera_and_Photo           859876        NaN   \n",
       "2   9664342  Camera_and_Photo          1105105        NaN   \n",
       "3  11880567  Camera_and_Photo           859876        NaN   \n",
       "4   4401122  Camera_and_Photo           124647  \"Sandisk\"   \n",
       "\n",
       "                                          title_left  \\\n",
       "0   \"IBM E445748 ABT 8MB 72p 70ns 24c 1x4 Parity ...   \n",
       "1   \"Canon EF macro lens\" \" Canon lens - 3554B002...   \n",
       "2   \"Canon EF zoom lens - 24 mm 70 mm\" \" Canon 63...   \n",
       "3   \"Canon EF macro lens\" \" Canon lens - 3554B002...   \n",
       "4   \"Sandisk 64GB Extreme Plus SDSDQXN-064G micro...   \n",
       "\n",
       "                                    description_left       price_left  \\\n",
       "0   \"E445748 ABT 8MB 72p 70ns 24c 1x4 Parity FPM ...    \"9.98\", \"USD\"   \n",
       "1  \"Canon's \"L\" series lens is its first mid-tele...  \"$\", \"1,019.99\"   \n",
       "2  \"The EF 24-70mm f/4L IS USM is the perfect zoo...  \"$\", \"1,019.99\"   \n",
       "3  \"Canon's \"L\" series lens is its first mid-tele...  \"$\", \"1,019.99\"   \n",
       "4   media players video cameras and other flash d...   \"USD\", \"41.85\"   \n",
       "\n",
       "   id_right    category_right  cluster_id_right  brand_right  \\\n",
       "0   6849009  Camera_and_Photo            220397  \"Major/3rd\"   \n",
       "1  17557441  Camera_and_Photo           1516956      \"Canon\"   \n",
       "2   8042095  Camera_and_Photo             53429          NaN   \n",
       "3  17557430  Camera_and_Photo            859876      \"Canon\"   \n",
       "4   3612818  Camera_and_Photo             11569  \"Transcend\"   \n",
       "\n",
       "                                         title_right  \\\n",
       "0   C2066A - not valid 3LC\" \"Major/3rd 92G7208 AB...   \n",
       "1                   \"EF 40mm f/2.8 STM Pancake Lens\"   \n",
       "2   \"Canon EF telephoto zoom lens - 70 mm 300 mm\"...   \n",
       "3                \"EF 100mm f/2.8L Macro IS USM Lens\"   \n",
       "4   \"Transcend TS64GSDXC10 CVK 64GB 9p SDXC Class...   \n",
       "\n",
       "                                   description_right      price_right  \n",
       "0   \"92G7208 ABT 8MB 72p 70ns 20c 1x4 Parity FPM ...    \"9.98\", \"USD\"  \n",
       "1                                                NaN  \"149.00\", \"USD\"  \n",
       "2  \"Designed to deliver ultra-high quality images...  \"$\", \"1,527.99\"  \n",
       "3                                                NaN  \"USD\", \"749.00\"  \n",
       "4   \"TS64GSDXC10 CVK 64GB 9p SDXC Class 10 Secure...   \"USD\", \"62.85\"  "
      ]
     },
     "execution_count": 6,
     "metadata": {},
     "output_type": "execute_result"
    }
   ],
   "source": [
    "df.head()"
   ]
  },
  {
   "cell_type": "code",
   "execution_count": 7,
   "id": "c04a7802",
   "metadata": {},
   "outputs": [],
   "source": [
    "import chromadb"
   ]
  },
  {
   "cell_type": "code",
   "execution_count": 8,
   "id": "86b76368",
   "metadata": {},
   "outputs": [],
   "source": [
    "chroma_client = chromadb.Client()"
   ]
  },
  {
   "cell_type": "code",
   "execution_count": null,
   "id": "844e2df9",
   "metadata": {},
   "outputs": [],
   "source": [
    "collection = chroma_client.create_collection(name=\"my_collection\")"
   ]
  }
 ],
 "metadata": {
  "kernelspec": {
   "display_name": "env",
   "language": "python",
   "name": "python3"
  },
  "language_info": {
   "codemirror_mode": {
    "name": "ipython",
    "version": 3
   },
   "file_extension": ".py",
   "mimetype": "text/x-python",
   "name": "python",
   "nbconvert_exporter": "python",
   "pygments_lexer": "ipython3",
   "version": "3.10.0"
  }
 },
 "nbformat": 4,
 "nbformat_minor": 5
}
