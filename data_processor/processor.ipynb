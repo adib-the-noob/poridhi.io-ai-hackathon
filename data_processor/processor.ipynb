{
 "cells": [
  {
   "cell_type": "code",
   "execution_count": 1,
   "id": "aa1cbcb3",
   "metadata": {},
   "outputs": [
    {
     "name": "stderr",
     "output_type": "stream",
     "text": [
      "/home/alexpy/Desktop/poridhi-ai-hackathon/env/lib/python3.10/site-packages/tqdm/auto.py:21: TqdmWarning: IProgress not found. Please update jupyter and ipywidgets. See https://ipywidgets.readthedocs.io/en/stable/user_install.html\n",
      "  from .autonotebook import tqdm as notebook_tqdm\n"
     ]
    }
   ],
   "source": [
    "from pyspark.sql import SparkSession\n",
    "from pyspark.sql.functions import col\n",
    "from datasets import load_dataset"
   ]
  },
  {
   "cell_type": "code",
   "execution_count": 2,
   "id": "e29d1879",
   "metadata": {},
   "outputs": [
    {
     "name": "stderr",
     "output_type": "stream",
     "text": [
      "25/04/26 15:30:30 WARN Utils: Your hostname, indrani resolves to a loopback address: 127.0.1.1; using 10.112.62.61 instead (on interface wlo1)\n",
      "25/04/26 15:30:30 WARN Utils: Set SPARK_LOCAL_IP if you need to bind to another address\n",
      "Setting default log level to \"WARN\".\n",
      "To adjust logging level use sc.setLogLevel(newLevel). For SparkR, use setLogLevel(newLevel).\n",
      "25/04/26 15:30:31 WARN NativeCodeLoader: Unable to load native-hadoop library for your platform... using builtin-java classes where applicable\n"
     ]
    }
   ],
   "source": [
    "\n",
    "# Initialize the Spark session\n",
    "spark = SparkSession.builder \\\n",
    "    .appName(\"Fashion Dataset Cleaning\") \\\n",
    "    .getOrCreate()"
   ]
  },
  {
   "cell_type": "code",
   "execution_count": 6,
   "id": "907e716a",
   "metadata": {},
   "outputs": [],
   "source": [
    "ds = load_dataset(\"wdc/products-2017\", \"cameras_large\")"
   ]
  },
  {
   "cell_type": "code",
   "execution_count": 7,
   "id": "0a93d0e4",
   "metadata": {},
   "outputs": [],
   "source": [
    "pandas_df = ds[\"train\"].to_pandas()"
   ]
  },
  {
   "cell_type": "code",
   "execution_count": 8,
   "id": "baf3e2ff",
   "metadata": {},
   "outputs": [],
   "source": [
    "spark_df = spark.createDataFrame(pandas_df)"
   ]
  },
  {
   "cell_type": "code",
   "execution_count": 7,
   "id": "a1c5960b",
   "metadata": {},
   "outputs": [
    {
     "name": "stderr",
     "output_type": "stream",
     "text": [
      "25/04/26 14:44:04 WARN TaskSetManager: Stage 0 contains a task of very large size (5395 KiB). The maximum recommended task size is 1000 KiB.\n",
      "                                                                                \r"
     ]
    },
    {
     "data": {
      "text/plain": [
       "16028"
      ]
     },
     "execution_count": 7,
     "metadata": {},
     "output_type": "execute_result"
    }
   ],
   "source": [
    "spark_df.count()"
   ]
  },
  {
   "cell_type": "code",
   "execution_count": 13,
   "id": "1562e782",
   "metadata": {},
   "outputs": [
    {
     "name": "stderr",
     "output_type": "stream",
     "text": [
      "25/04/26 12:51:10 WARN TaskSetManager: Stage 2 contains a task of very large size (5395 KiB). The maximum recommended task size is 1000 KiB.\n",
      "[Stage 2:>                                                          (0 + 4) / 4]\r"
     ]
    },
    {
     "name": "stdout",
     "output_type": "stream",
     "text": [
      "+-------+-----+-------+-------------+---------------+----------+----------+----------------+----------+---------------------+--------+--------------+----------------+-----------+-----------+-----------------+-----------+----------------------+\n",
      "|pair_id|label|id_left|category_left|cluster_id_left|brand_left|title_left|description_left|price_left|specTableContent_left|id_right|category_right|cluster_id_right|brand_right|title_right|description_right|price_right|specTableContent_right|\n",
      "+-------+-----+-------+-------------+---------------+----------+----------+----------------+----------+---------------------+--------+--------------+----------------+-----------+-----------+-----------------+-----------+----------------------+\n",
      "|      0|    0|      0|            0|              0|      8851|         0|            3337|     14405|                13728|       0|             0|               0|       9179|          0|             3774|      14643|                 13555|\n",
      "+-------+-----+-------+-------------+---------------+----------+----------+----------------+----------+---------------------+--------+--------------+----------------+-----------+-----------+-----------------+-----------+----------------------+\n",
      "\n"
     ]
    },
    {
     "name": "stderr",
     "output_type": "stream",
     "text": [
      "                                                                                \r"
     ]
    }
   ],
   "source": [
    "from pyspark.sql import functions as F\n",
    "\n",
    "# Assuming 'spark_df' is your PySpark DataFrame\n",
    "null_count = spark_df.select([F.sum(F.col(c).isNull().cast(\"int\")).alias(c) for c in spark_df.columns])\n",
    "\n",
    "# Show the result\n",
    "null_count.show()"
   ]
  },
  {
   "cell_type": "code",
   "execution_count": 9,
   "id": "c3fc1725",
   "metadata": {},
   "outputs": [],
   "source": [
    "filtered_df = spark_df.filter(\n",
    "    spark_df['price_left'].isNotNull() & spark_df['price_right'].isNotNull()\n",
    ")\n",
    "\n",
    "# Take the first 1000 rows\n",
    "result_df = filtered_df.limit(1000)"
   ]
  },
  {
   "cell_type": "code",
   "execution_count": 10,
   "id": "f921d63c",
   "metadata": {},
   "outputs": [
    {
     "name": "stderr",
     "output_type": "stream",
     "text": [
      "25/04/26 15:34:21 WARN TaskSetManager: Stage 0 contains a task of very large size (5395 KiB). The maximum recommended task size is 1000 KiB.\n",
      "                                                                                \r"
     ]
    },
    {
     "name": "stdout",
     "output_type": "stream",
     "text": [
      "+-----------------+-----+--------+----------------+---------------+----------+--------------------+--------------------+---------------+---------------------+--------+----------------+----------------+-----------+--------------------+--------------------+---------------+----------------------+\n",
      "|          pair_id|label| id_left|   category_left|cluster_id_left|brand_left|          title_left|    description_left|     price_left|specTableContent_left|id_right|  category_right|cluster_id_right|brand_right|         title_right|   description_right|    price_right|specTableContent_right|\n",
      "+-----------------+-----+--------+----------------+---------------+----------+--------------------+--------------------+---------------+---------------------+--------+----------------+----------------+-----------+--------------------+--------------------+---------------+----------------------+\n",
      "| 15548233#6849009|    1|15548233|Camera_and_Photo|         220397|     \"IBM\"| \"IBM E445748 ABT...| \"E445748 ABT 8MB...|  \"9.98\", \"USD\"|                 NULL| 6849009|Camera_and_Photo|          220397|\"Major/3rd\"| C2066A - not val...| \"92G7208 ABT 8MB...|  \"9.98\", \"USD\"|                  NULL|\n",
      "|11880567#17557441|    0|11880567|Camera_and_Photo|         859876|      NULL| \"Canon EF macro ...|\"Canon's \"L\" seri...|\"$\", \"1,019.99\"|                 NULL|17557441|Camera_and_Photo|         1516956|    \"Canon\"| \"EF 40mm f/2.8 S...|                NULL|\"149.00\", \"USD\"|                  NULL|\n",
      "|  9664342#8042095|    0| 9664342|Camera_and_Photo|        1105105|      NULL| \"Canon EF zoom l...|\"The EF 24-70mm f...|\"$\", \"1,019.99\"|                 NULL| 8042095|Camera_and_Photo|           53429|       NULL| \"Canon EF teleph...|\"Designed to deli...|\"$\", \"1,527.99\"|                  NULL|\n",
      "|11880567#17557430|    1|11880567|Camera_and_Photo|         859876|      NULL| \"Canon EF macro ...|\"Canon's \"L\" seri...|\"$\", \"1,019.99\"|                 NULL|17557430|Camera_and_Photo|          859876|    \"Canon\"| \"EF 100mm f/2.8L...|                NULL|\"USD\", \"749.00\"|                  NULL|\n",
      "|  4401122#3612818|    0| 4401122|Camera_and_Photo|         124647| \"Sandisk\"| \"Sandisk 64GB Ex...| media players vi...| \"USD\", \"41.85\"|                 NULL| 3612818|Camera_and_Photo|           11569|\"Transcend\"| \"Transcend TS64G...| \"TS64GSDXC10 CVK...| \"USD\", \"62.85\"|                  NULL|\n",
      "+-----------------+-----+--------+----------------+---------------+----------+--------------------+--------------------+---------------+---------------------+--------+----------------+----------------+-----------+--------------------+--------------------+---------------+----------------------+\n",
      "only showing top 5 rows\n",
      "\n"
     ]
    }
   ],
   "source": [
    "result_df.show(5)"
   ]
  },
  {
   "cell_type": "code",
   "execution_count": 11,
   "id": "4c1718ec",
   "metadata": {},
   "outputs": [
    {
     "name": "stdout",
     "output_type": "stream",
     "text": [
      "root\n",
      " |-- id_left: long (nullable = true)\n",
      " |-- category_left: string (nullable = true)\n",
      " |-- cluster_id_left: long (nullable = true)\n",
      " |-- brand_left: string (nullable = true)\n",
      " |-- title_left: string (nullable = true)\n",
      " |-- description_left: string (nullable = true)\n",
      " |-- price_left: string (nullable = true)\n",
      " |-- id_right: long (nullable = true)\n",
      " |-- category_right: string (nullable = true)\n",
      " |-- cluster_id_right: long (nullable = true)\n",
      " |-- brand_right: string (nullable = true)\n",
      " |-- title_right: string (nullable = true)\n",
      " |-- description_right: string (nullable = true)\n",
      " |-- price_right: string (nullable = true)\n",
      "\n"
     ]
    }
   ],
   "source": [
    "result_df = result_df.drop(\"pair_id\", \"label\", \"specTableContent_left\", \"specTableContent_right\")\n",
    "result_df.printSchema()"
   ]
  },
  {
   "cell_type": "code",
   "execution_count": 12,
   "id": "1a0b7277",
   "metadata": {},
   "outputs": [
    {
     "name": "stderr",
     "output_type": "stream",
     "text": [
      "25/04/26 15:34:25 WARN TaskSetManager: Stage 1 contains a task of very large size (5395 KiB). The maximum recommended task size is 1000 KiB.\n",
      "                                                                                \r"
     ]
    }
   ],
   "source": [
    "result_df.write.json(\"output.json\", mode=\"overwrite\")"
   ]
  },
  {
   "cell_type": "code",
   "execution_count": 13,
   "id": "cfd443c2",
   "metadata": {},
   "outputs": [],
   "source": [
    "spark.stop()"
   ]
  },
  {
   "cell_type": "markdown",
   "id": "51eec61d",
   "metadata": {},
   "source": [
    "## Remove missing data"
   ]
  },
  {
   "cell_type": "code",
   "execution_count": 14,
   "id": "a8dbe86d",
   "metadata": {},
   "outputs": [],
   "source": [
    "df_cleaned = df.dropna(how='any')"
   ]
  },
  {
   "cell_type": "markdown",
   "id": "4d628e60",
   "metadata": {},
   "source": [
    "## Drop Duplicates"
   ]
  },
  {
   "cell_type": "code",
   "execution_count": 15,
   "id": "506a0ae5",
   "metadata": {},
   "outputs": [],
   "source": [
    "df_cleaned = df_cleaned.dropDuplicates()"
   ]
  },
  {
   "cell_type": "code",
   "execution_count": 16,
   "id": "32bf6735",
   "metadata": {},
   "outputs": [
    {
     "name": "stderr",
     "output_type": "stream",
     "text": [
      "25/04/16 01:03:26 WARN CSVHeaderChecker: CSV header does not conform to the schema.\n",
      " Header: , BrandName, Deatils, Sizes, MRP, SellPrice, Discount, Category\n",
      " Schema: _c0, BrandName, Deatils, Sizes, MRP, SellPrice, Discount, Category\n",
      "Expected: _c0 but found: \n",
      "CSV file: file:///home/alexpy/Desktop/poridhi.io-ai-hackathon/data_processor/FashionDataset.csv\n",
      "                                                                                \r"
     ]
    },
    {
     "data": {
      "text/plain": [
       "7014"
      ]
     },
     "execution_count": 16,
     "metadata": {},
     "output_type": "execute_result"
    }
   ],
   "source": [
    "df_cleaned.count()"
   ]
  },
  {
   "cell_type": "markdown",
   "id": "0ba68610",
   "metadata": {},
   "source": [
    "## Distict values"
   ]
  },
  {
   "cell_type": "code",
   "execution_count": 17,
   "id": "1a1b1028",
   "metadata": {},
   "outputs": [
    {
     "name": "stderr",
     "output_type": "stream",
     "text": [
      "25/04/16 01:03:34 WARN CSVHeaderChecker: CSV header does not conform to the schema.\n",
      " Header: , BrandName, Deatils, Sizes, MRP, SellPrice, Discount, Category\n",
      " Schema: _c0, BrandName, Deatils, Sizes, MRP, SellPrice, Discount, Category\n",
      "Expected: _c0 but found: \n",
      "CSV file: file:///home/alexpy/Desktop/poridhi.io-ai-hackathon/data_processor/FashionDataset.csv\n",
      "[Stage 15:==========================================================(1 + 0) / 1]\r"
     ]
    },
    {
     "name": "stdout",
     "output_type": "stream",
     "text": [
      "+--------------------+-----+\n",
      "|            Category|count|\n",
      "+--------------------+-----+\n",
      "|      Footwear-Women|  834|\n",
      "|Lingerie&Nightwea...| 1133|\n",
      "|   Westernwear-Women| 1696|\n",
      "|     Fragrance-Women|  289|\n",
      "|     Jewellery-Women|  635|\n",
      "|       Watches-Women|  750|\n",
      "|    Indianwear-Women| 1677|\n",
      "+--------------------+-----+\n",
      "\n"
     ]
    },
    {
     "name": "stderr",
     "output_type": "stream",
     "text": [
      "                                                                                \r"
     ]
    }
   ],
   "source": [
    "distinct_counts = df_cleaned.groupBy(\"Category\").count()\n",
    "distinct_counts.show()"
   ]
  },
  {
   "cell_type": "markdown",
   "id": "3a1b6a26",
   "metadata": {},
   "source": [
    "## Stop spark"
   ]
  },
  {
   "cell_type": "code",
   "execution_count": 18,
   "id": "2c9d7210",
   "metadata": {},
   "outputs": [
    {
     "name": "stderr",
     "output_type": "stream",
     "text": [
      "25/04/16 01:03:43 WARN CSVHeaderChecker: CSV header does not conform to the schema.\n",
      " Header: , BrandName, Deatils, Sizes, MRP, SellPrice, Discount, Category\n",
      " Schema: _c0, BrandName, Deatils, Sizes, MRP, SellPrice, Discount, Category\n",
      "Expected: _c0 but found: \n",
      "CSV file: file:///home/alexpy/Desktop/poridhi.io-ai-hackathon/data_processor/FashionDataset.csv\n",
      "[Stage 21:>                                                         (0 + 1) / 1]\r"
     ]
    },
    {
     "name": "stdout",
     "output_type": "stream",
     "text": [
      "+---+-----------------+---------------------------------------------------------------------+----------------------------------------------------------------+---+---------+--------+------------------------+\n",
      "|_c0|BrandName        |Deatils                                                              |Sizes                                                           |MRP|SellPrice|Discount|Category                |\n",
      "+---+-----------------+---------------------------------------------------------------------+----------------------------------------------------------------+---+---------+--------+------------------------+\n",
      "|24 |levis            |skinny fit regular length cotton womens jeans - dk indigo            |Size:28,30,32,34                                                |Nan|3699     |Nan     |Westernwear-Women       |\n",
      "|18 |campus sutra     |solid cotton hood womens co-ordinate set - pink                      |Size:Large,Medium,Small,X-Large                                 |Nan|1599     |Nan     |Westernwear-Women       |\n",
      "|23 |vero moda        |solid polyester collared womens  shirts - fuschia                    |Size:Large,Medium,Small,X-Large,X-Small                         |Nan|2599     |Nan     |Westernwear-Women       |\n",
      "|24 |cover story      |solid polyester v neck womens dress - lilac                          |Size:Large,Medium,Small,X-Large,X-Small                         |Nan|2890     |Nan     |Westernwear-Women       |\n",
      "|0  |109f             |printed polyester round neck womens sweatshirt - maroon              |Size:Large,Medium,X-Large,XX-Large                              |Nan|2499     |Nan     |Westernwear-Women       |\n",
      "|19 |campus sutra     |womens knit regular fit sweatshirt - mustard                         |Size:Medium,Small,X-Large                                       |Nan|1399     |Nan     |Westernwear-Women       |\n",
      "|8  |iti              |womens overlapping grommet maxi - purple                             |Size:Small                                                      |Nan|2499     |Nan     |Westernwear-Women       |\n",
      "|25 |iti              |womens purple tassel top - purple                                    |Size:Medium,Small                                               |Nan|1799     |Nan     |Westernwear-Women       |\n",
      "|10 |miss chase       |printed flared sleeves rayon womens regular length jumpsuit - blue   |Size:Large,Medium,Small,X-Large,X-Small                         |Nan|2449     |Nan     |Westernwear-Women       |\n",
      "|24 |allen solly tribe|solid regular fit polyester cotton womens trousers - navy            |Size:28,30,32,34,36                                             |Nan|1799     |Nan     |Westernwear-Women       |\n",
      "|2  |life             |unisex solid socks pack of 2 - assorted - multi                      |Nan                                                             |Nan|199      |Nan     |Westernwear-Women       |\n",
      "|20 |aurelia          |printed polyester v neck womens ethnic set - green                   |Size:Large,Medium,Small,X-Large,X-Small,XX-Large                |Nan|3999     |Nan     |Indianwear-Women        |\n",
      "|20 |ira soleil       |art silk regular fit womens festive wear skirt - blue                |Size:Large,Medium,Small,X-Large                                 |Nan|1499     |Nan     |Indianwear-Women        |\n",
      "|3  |w                |womens solid casual pants - black                                    |Size:6,8,10,12,14,16                                            |Nan|999      |Nan     |Indianwear-Women        |\n",
      "|17 |aurelia          |band with placket cotton womens knee length kurta - yellow           |Size:Large,Medium,Small,X-Large,X-Small                         |Nan|1199     |Nan     |Indianwear-Women        |\n",
      "|23 |global desi      |solid viscose collared neck womens tunic - coral                     |Size:XL,Large,Medium,Small,X-Small,XX-Large                     |Nan|1699     |Nan     |Indianwear-Women        |\n",
      "|12 |stop             |womens slim fit solid stretch pants - black                          |Size:S,M,L,X-Large,X-Small                                      |Nan|999      |Nan     |Indianwear-Women        |\n",
      "|10 |de moza          |solid skinny fit viscose womens leggings - rust                      |Size:4X-Large,Large,Medium,Small,XX-Large                       |Nan|599      |Nan     |Indianwear-Women        |\n",
      "|18 |w                |printed rayon flax mandarin womens straight kurta - blue             |Size:6,8,10,12,14,16,18                                         |Nan|1999     |Nan     |Indianwear-Women        |\n",
      "|20 |arteastri        |jamdani cotton handloom casual womens saree - purple                 |Nan                                                             |Nan|3500     |Nan     |Indianwear-Women        |\n",
      "|2  |de moza          |solid skinny fit viscose womens leggings - emerald                   |Size:4X-Large,Medium,Small,XX-Large,XXX-Large                   |Nan|599      |Nan     |Indianwear-Women        |\n",
      "|13 |aurelia          |round neck cotton womens knee length kurta - natural                 |Size:Large,Medium,Small,X-Large,X-Small,XX-Large                |Nan|1699     |Nan     |Indianwear-Women        |\n",
      "|4  |w                |solid cotton flex mandarin neck womens straight fit kurta - peach    |Size:6,8                                                        |Nan|1499     |Nan     |Indianwear-Women        |\n",
      "|24 |indya            |geometric square neck cotton womens regular fit maxi dress - blue    |Size:Medium,Small                                               |Nan|2400     |Nan     |Indianwear-Women        |\n",
      "|18 |van heusen       |non wired multiway straps heavily padded womens every day bra - blue |Size:30-B,32-B,32-C,34-B,34-C,34-D,36-B,36-C,36-D,38-B,38-C,38-D|Nan|749      |Nan     |Lingerie&Nightwear-Women|\n",
      "|23 |enamor           |non-wired racerback strap non padded womens t-shirt bra - grape      |Size:32-B,32-C,32-D,34-B,34-C,34-D,36-B,36-C,38-B               |Nan|729      |Nan     |Lingerie&Nightwear-Women|\n",
      "|9  |sloggi           |non wired fixed strap heavily padded womens every day bra - purple   |Nan                                                             |Nan|1999     |Nan     |Lingerie&Nightwear-Women|\n",
      "|10 |amante           |cotton blend intimatewear womens t-shirt bra - natural               |Size:40-DD                                                      |Nan|1295     |Nan     |Lingerie&Nightwear-Women|\n",
      "|23 |wacoal           |womens solid hipster briefs - natural                                |Size:Large,Medium,Small,X-Large                                 |Nan|695      |Nan     |Lingerie&Nightwear-Women|\n",
      "|11 |enamor           |non-wired removable strap padded womens everyday bra - grey          |Size:32-B,32-C,32-D,34-B,34-C,34-D,36-B,36-C,36-D,38-C          |Nan|1149     |Nan     |Lingerie&Nightwear-Women|\n",
      "|25 |enamor           |mid waist panty - charcoal                                           |Size:Small                                                      |Nan|399      |Nan     |Lingerie&Nightwear-Women|\n",
      "|6  |kaftan company   |womens floral sunshine maxi kaftan with pompoms - black              |Size:XX-Large,XXX-Large                                         |Nan|2499     |Nan     |Lingerie&Nightwear-Women|\n",
      "|9  |inc.5            |synthetic slip on womens casual wear sandals - natural               |Size:5,6,7,8,9,10,11                                            |Nan|2590     |Nan     |Footwear-Women          |\n",
      "|24 |puma             |textile slip on womens sports shoes - black                          |Size:3,4,5,6,7                                                  |Nan|6999     |Nan     |Footwear-Women          |\n",
      "|7  |von wellx        |synthetic slipon round toe womens casual wear shoes - metallic blue  |Size:3,4,5,6,7,8                                                |Nan|2599     |Nan     |Footwear-Women          |\n",
      "|18 |guess            |womens 30 mm gala silver dial stainless steel analog watch - gw0401l1|Nan                                                             |Nan|11295    |Nan     |Watches-Women           |\n",
      "|12 |anne klein       |womens ceramic brown dial ceramic analogue watch - nbak1018rgtn      |Nan                                                             |Nan|10999    |Nan     |Watches-Women           |\n",
      "|8  |versace          |womens bright crystal absolu eau de parfum 50 ml                     |Nan                                                             |Nan|5500     |Nan     |Fragrance-Women         |\n",
      "|1  |belleziya        |plaid scrunchies black/pink/yellow hair band pack of 3               |Nan                                                             |Nan|599      |Nan     |Jewellery-Women         |\n",
      "|20 |daniel wellington|unisex silver plated engraved ring - silver                          |Nan                                                             |Nan|3499     |Nan     |Jewellery-Women         |\n",
      "|14 |fossil           |georgia gold necklace jf04014710                                     |Nan                                                             |Nan|3995     |Nan     |Jewellery-Women         |\n",
      "|5  |iti              |womens solid cape sleeves v neck fit and flare maxi dress - blue     |Size:Small                                                      |Nan|2699     |Nan     |Westernwear-Women       |\n",
      "|14 |iti              |womens green overlap ruffle maxi - green                             |Size:Small,X-Small                                              |Nan|2999     |Nan     |Westernwear-Women       |\n",
      "|24 |stop             |printed viscose regular fit womens top - off white                   |Size:Large,Medium,Small,X-Large,X-Small,XX-Large                |Nan|1299     |Nan     |Westernwear-Women       |\n",
      "|11 |stop             |embroidered flared fit cotton womens casual wear palazzo - black     |Size:Large/X-Large,Small/Medium,XX-Large/XXX-Large              |Nan|999      |Nan     |Indianwear-Women        |\n",
      "|0  |juniper          |solid rayon mandarin womens a-line dress - black                     |Size:Small                                                      |Nan|2499     |Nan     |Indianwear-Women        |\n",
      "|12 |de moza          |solid skinny fit viscose womens leggings - black                     |Size:4X-Large,Large,Medium,Small,X-Large,XX-Large,XXX-Large     |Nan|599      |Nan     |Indianwear-Women        |\n",
      "|15 |de moza          |solid skinny fit cotton womens leggings - red                        |Size:Large,Medium,Small,X-Large,XX-Large                        |Nan|499      |Nan     |Indianwear-Women        |\n",
      "|24 |triumph          |polyester blend high rise womens intimate wear panties - blue        |Size:Large,Medium,Small,X-Large                                 |Nan|599      |Nan     |Lingerie&Nightwear-Women|\n",
      "|11 |soie             |womens round neck solid camisole - royal blue                        |Size:Large,Medium,Small,X-Large,XX-Large                        |Nan|380      |Nan     |Lingerie&Nightwear-Women|\n",
      "+---+-----------------+---------------------------------------------------------------------+----------------------------------------------------------------+---+---------+--------+------------------------+\n",
      "only showing top 50 rows\n",
      "\n"
     ]
    },
    {
     "name": "stderr",
     "output_type": "stream",
     "text": [
      "                                                                                \r"
     ]
    }
   ],
   "source": [
    "df_cleaned.show(50, False)"
   ]
  },
  {
   "cell_type": "code",
   "execution_count": 19,
   "id": "b8822480",
   "metadata": {},
   "outputs": [],
   "source": [
    "df_cleaned = df_cleaned.drop(\"_c0\", \"MRP\", \"Discount\")"
   ]
  },
  {
   "cell_type": "code",
   "execution_count": 20,
   "id": "7a74b6bd",
   "metadata": {},
   "outputs": [],
   "source": [
    "df_cleaned = df_cleaned.withColumnRenamed(\"Deatils\", \"Details\")"
   ]
  },
  {
   "cell_type": "code",
   "execution_count": 12,
   "id": "91991927",
   "metadata": {},
   "outputs": [
    {
     "name": "stdout",
     "output_type": "stream",
     "text": [
      "root\n",
      " |-- BrandName: string (nullable = true)\n",
      " |-- Details: string (nullable = true)\n",
      " |-- Sizes: string (nullable = true)\n",
      " |-- SellPrice: string (nullable = true)\n",
      " |-- Category: string (nullable = true)\n",
      "\n"
     ]
    }
   ],
   "source": [
    "df_cleaned.printSchema()"
   ]
  },
  {
   "cell_type": "code",
   "execution_count": 21,
   "id": "264a5072",
   "metadata": {},
   "outputs": [],
   "source": [
    "df_converted = df_cleaned.withColumn(\"SellPrice\", col(\"SellPrice\").cast(\"int\"))"
   ]
  },
  {
   "cell_type": "code",
   "execution_count": 22,
   "id": "5779e645",
   "metadata": {},
   "outputs": [],
   "source": [
    "df = df_converted"
   ]
  },
  {
   "cell_type": "code",
   "execution_count": 26,
   "id": "7bc3f6f8",
   "metadata": {},
   "outputs": [
    {
     "name": "stderr",
     "output_type": "stream",
     "text": [
      "25/04/16 01:07:46 WARN CSVHeaderChecker: CSV header does not conform to the schema.\n",
      " Header: , BrandName, Deatils, Sizes, MRP, SellPrice, Discount, Category\n",
      " Schema: _c0, BrandName, Deatils, Sizes, MRP, SellPrice, Discount, Category\n",
      "Expected: _c0 but found: \n",
      "CSV file: file:///home/alexpy/Desktop/poridhi.io-ai-hackathon/data_processor/FashionDataset.csv\n",
      "[Stage 30:>                                                         (0 + 1) / 1]\r"
     ]
    },
    {
     "name": "stdout",
     "output_type": "stream",
     "text": [
      "+-----------------------+------------------------------------------------------------------------------------------------+----------------------------------------------------------------+---------+------------------------+\n",
      "|BrandName              |Details                                                                                         |Sizes                                                           |SellPrice|Category                |\n",
      "+-----------------------+------------------------------------------------------------------------------------------------+----------------------------------------------------------------+---------+------------------------+\n",
      "|levis                  |skinny fit regular length cotton womens jeans - dk indigo                                       |Size:28,30,32,34                                                |3699     |Westernwear-Women       |\n",
      "|campus sutra           |solid cotton hood womens co-ordinate set - pink                                                 |Size:Large,Medium,Small,X-Large                                 |1599     |Westernwear-Women       |\n",
      "|vero moda              |solid polyester collared womens  shirts - fuschia                                               |Size:Large,Medium,Small,X-Large,X-Small                         |2599     |Westernwear-Women       |\n",
      "|cover story            |solid polyester v neck womens dress - lilac                                                     |Size:Large,Medium,Small,X-Large,X-Small                         |2890     |Westernwear-Women       |\n",
      "|109f                   |printed polyester round neck womens sweatshirt - maroon                                         |Size:Large,Medium,X-Large,XX-Large                              |2499     |Westernwear-Women       |\n",
      "|campus sutra           |womens knit regular fit sweatshirt - mustard                                                    |Size:Medium,Small,X-Large                                       |1399     |Westernwear-Women       |\n",
      "|iti                    |womens overlapping grommet maxi - purple                                                        |Size:Small                                                      |2499     |Westernwear-Women       |\n",
      "|iti                    |womens purple tassel top - purple                                                               |Size:Medium,Small                                               |1799     |Westernwear-Women       |\n",
      "|miss chase             |printed flared sleeves rayon womens regular length jumpsuit - blue                              |Size:Large,Medium,Small,X-Large,X-Small                         |2449     |Westernwear-Women       |\n",
      "|allen solly tribe      |solid regular fit polyester cotton womens trousers - navy                                       |Size:28,30,32,34,36                                             |1799     |Westernwear-Women       |\n",
      "|aurelia                |printed polyester v neck womens ethnic set - green                                              |Size:Large,Medium,Small,X-Large,X-Small,XX-Large                |3999     |Indianwear-Women        |\n",
      "|ira soleil             |art silk regular fit womens festive wear skirt - blue                                           |Size:Large,Medium,Small,X-Large                                 |1499     |Indianwear-Women        |\n",
      "|w                      |womens solid casual pants - black                                                               |Size:6,8,10,12,14,16                                            |999      |Indianwear-Women        |\n",
      "|aurelia                |band with placket cotton womens knee length kurta - yellow                                      |Size:Large,Medium,Small,X-Large,X-Small                         |1199     |Indianwear-Women        |\n",
      "|global desi            |solid viscose collared neck womens tunic - coral                                                |Size:XL,Large,Medium,Small,X-Small,XX-Large                     |1699     |Indianwear-Women        |\n",
      "|stop                   |womens slim fit solid stretch pants - black                                                     |Size:S,M,L,X-Large,X-Small                                      |999      |Indianwear-Women        |\n",
      "|de moza                |solid skinny fit viscose womens leggings - rust                                                 |Size:4X-Large,Large,Medium,Small,XX-Large                       |599      |Indianwear-Women        |\n",
      "|w                      |printed rayon flax mandarin womens straight kurta - blue                                        |Size:6,8,10,12,14,16,18                                         |1999     |Indianwear-Women        |\n",
      "|de moza                |solid skinny fit viscose womens leggings - emerald                                              |Size:4X-Large,Medium,Small,XX-Large,XXX-Large                   |599      |Indianwear-Women        |\n",
      "|aurelia                |round neck cotton womens knee length kurta - natural                                            |Size:Large,Medium,Small,X-Large,X-Small,XX-Large                |1699     |Indianwear-Women        |\n",
      "|w                      |solid cotton flex mandarin neck womens straight fit kurta - peach                               |Size:6,8                                                        |1499     |Indianwear-Women        |\n",
      "|indya                  |geometric square neck cotton womens regular fit maxi dress - blue                               |Size:Medium,Small                                               |2400     |Indianwear-Women        |\n",
      "|van heusen             |non wired multiway straps heavily padded womens every day bra - blue                            |Size:30-B,32-B,32-C,34-B,34-C,34-D,36-B,36-C,36-D,38-B,38-C,38-D|749      |Lingerie&Nightwear-Women|\n",
      "|enamor                 |non-wired racerback strap non padded womens t-shirt bra - grape                                 |Size:32-B,32-C,32-D,34-B,34-C,34-D,36-B,36-C,38-B               |729      |Lingerie&Nightwear-Women|\n",
      "|amante                 |cotton blend intimatewear womens t-shirt bra - natural                                          |Size:40-DD                                                      |1295     |Lingerie&Nightwear-Women|\n",
      "|wacoal                 |womens solid hipster briefs - natural                                                           |Size:Large,Medium,Small,X-Large                                 |695      |Lingerie&Nightwear-Women|\n",
      "|enamor                 |non-wired removable strap padded womens everyday bra - grey                                     |Size:32-B,32-C,32-D,34-B,34-C,34-D,36-B,36-C,36-D,38-C          |1149     |Lingerie&Nightwear-Women|\n",
      "|enamor                 |mid waist panty - charcoal                                                                      |Size:Small                                                      |399      |Lingerie&Nightwear-Women|\n",
      "|kaftan company         |womens floral sunshine maxi kaftan with pompoms - black                                         |Size:XX-Large,XXX-Large                                         |2499     |Lingerie&Nightwear-Women|\n",
      "|inc.5                  |synthetic slip on womens casual wear sandals - natural                                          |Size:5,6,7,8,9,10,11                                            |2590     |Footwear-Women          |\n",
      "|puma                   |textile slip on womens sports shoes - black                                                     |Size:3,4,5,6,7                                                  |6999     |Footwear-Women          |\n",
      "|von wellx              |synthetic slipon round toe womens casual wear shoes - metallic blue                             |Size:3,4,5,6,7,8                                                |2599     |Footwear-Women          |\n",
      "|iti                    |womens solid cape sleeves v neck fit and flare maxi dress - blue                                |Size:Small                                                      |2699     |Westernwear-Women       |\n",
      "|iti                    |womens green overlap ruffle maxi - green                                                        |Size:Small,X-Small                                              |2999     |Westernwear-Women       |\n",
      "|stop                   |printed viscose regular fit womens top - off white                                              |Size:Large,Medium,Small,X-Large,X-Small,XX-Large                |1299     |Westernwear-Women       |\n",
      "|stop                   |embroidered flared fit cotton womens casual wear palazzo - black                                |Size:Large/X-Large,Small/Medium,XX-Large/XXX-Large              |999      |Indianwear-Women        |\n",
      "|juniper                |solid rayon mandarin womens a-line dress - black                                                |Size:Small                                                      |2499     |Indianwear-Women        |\n",
      "|de moza                |solid skinny fit viscose womens leggings - black                                                |Size:4X-Large,Large,Medium,Small,X-Large,XX-Large,XXX-Large     |599      |Indianwear-Women        |\n",
      "|de moza                |solid skinny fit cotton womens leggings - red                                                   |Size:Large,Medium,Small,X-Large,XX-Large                        |499      |Indianwear-Women        |\n",
      "|triumph                |polyester blend high rise womens intimate wear panties - blue                                   |Size:Large,Medium,Small,X-Large                                 |599      |Lingerie&Nightwear-Women|\n",
      "|soie                   |womens round neck solid camisole - royal blue                                                   |Size:Large,Medium,Small,X-Large,XX-Large                        |380      |Lingerie&Nightwear-Women|\n",
      "|wacoal                 |wired fixed straps lightly padded womens every day bra - black                                  |Size:34-D,36-B                                                  |3299     |Lingerie&Nightwear-Women|\n",
      "|groversons paris beauty|womens full coverage padded womens full coverage everyday bra - pink                            |Size:30-B,32-B,34-B                                             |555      |Lingerie&Nightwear-Women|\n",
      "|adidas                 |iconic runner fabric low tops slipon unisex sport sandals - black                               |Size:7,8,9,10,11                                                |3599     |Footwear-Women          |\n",
      "|skechers               |knit slip on womens casual shoes - navy                                                         |Size:6,7,8,9,10                                                 |5499     |Footwear-Women          |\n",
      "|puma                   |textile lace up womens sports shoes - silver grey                                               |Size:3,4,5,6,7                                                  |6499     |Footwear-Women          |\n",
      "|havaianas              |rubber back strap womens occasion closed sandals - navy                                         |Size:40,42                                                      |1299     |Footwear-Women          |\n",
      "|u.s. polo assn.        |unisex adults blue triple layer reversible anti bacterial reusable face masks - pack of 3 - blue|Size:Large                                                      |499      |Westernwear-Women       |\n",
      "|emblaze                |womens white sequence dress - white                                                             |Size:Large,Medium,Small,X-Large,X-Small,XX-Large                |2800     |Westernwear-Women       |\n",
      "|emblaze                |womens pink & black pinafore dress with top - pink                                              |Size:Large,Medium,Small,X-Large,X-Small,XX-Large                |2600     |Westernwear-Women       |\n",
      "+-----------------------+------------------------------------------------------------------------------------------------+----------------------------------------------------------------+---------+------------------------+\n",
      "only showing top 50 rows\n",
      "\n"
     ]
    },
    {
     "name": "stderr",
     "output_type": "stream",
     "text": [
      "                                                                                \r"
     ]
    }
   ],
   "source": [
    "from pyspark.sql.functions import col, isnan\n",
    "df = df.filter(~isnan(col(\"Sizes\")))\n",
    "df.show(50, False)"
   ]
  },
  {
   "cell_type": "code",
   "execution_count": 27,
   "id": "2e65ff6e",
   "metadata": {},
   "outputs": [],
   "source": [
    "# Filter out rows where 'category' is None or null\n",
    "df = df.filter(col(\"Category\").isNotNull())\n"
   ]
  },
  {
   "cell_type": "code",
   "execution_count": 61,
   "id": "c6555c5e",
   "metadata": {},
   "outputs": [
    {
     "name": "stderr",
     "output_type": "stream",
     "text": [
      "25/04/16 00:36:56 WARN CSVHeaderChecker: CSV header does not conform to the schema.\n",
      " Header: , BrandName, Deatils, Sizes, MRP, SellPrice, Discount, Category\n",
      " Schema: _c0, BrandName, Deatils, Sizes, MRP, SellPrice, Discount, Category\n",
      "Expected: _c0 but found: \n",
      "CSV file: file:///home/alexpy/Desktop/poridhi.io-ai-hackathon/data_processor/FashionDataset.csv\n",
      "                                                                                \r"
     ]
    },
    {
     "data": {
      "text/plain": [
       "7014"
      ]
     },
     "execution_count": 61,
     "metadata": {},
     "output_type": "execute_result"
    }
   ],
   "source": [
    "df.count()"
   ]
  },
  {
   "cell_type": "code",
   "execution_count": 28,
   "id": "449fc872",
   "metadata": {},
   "outputs": [
    {
     "name": "stderr",
     "output_type": "stream",
     "text": [
      "25/04/16 01:08:02 WARN CSVHeaderChecker: CSV header does not conform to the schema.\n",
      " Header: , BrandName, Deatils, Sizes, MRP, SellPrice, Discount, Category\n",
      " Schema: _c0, BrandName, Deatils, Sizes, MRP, SellPrice, Discount, Category\n",
      "Expected: _c0 but found: \n",
      "CSV file: file:///home/alexpy/Desktop/poridhi.io-ai-hackathon/data_processor/FashionDataset.csv\n",
      "25/04/16 01:08:03 WARN CSVHeaderChecker: CSV header does not conform to the schema.\n",
      " Header: , BrandName, Deatils, Sizes, MRP, SellPrice, Discount, Category\n",
      " Schema: _c0, BrandName, Deatils, Sizes, MRP, SellPrice, Discount, Category\n",
      "Expected: _c0 but found: \n",
      "CSV file: file:///home/alexpy/Desktop/poridhi.io-ai-hackathon/data_processor/FashionDataset.csv\n",
      "                                                                                \r"
     ]
    }
   ],
   "source": [
    "\n",
    "# Get the total number of records\n",
    "total_records = df.count()\n",
    "\n",
    "# Number of records you want to pick\n",
    "sample_size = 1000\n",
    "\n",
    "# Get the count of records per category\n",
    "category_counts = df.groupBy(\"Category\").count().collect()\n"
   ]
  },
  {
   "cell_type": "code",
   "execution_count": 29,
   "id": "37ba03a3",
   "metadata": {},
   "outputs": [],
   "source": [
    "# Calculate the fraction for each category based on its proportion in the total dataset\n",
    "fractions = {}\n",
    "for row in category_counts:\n",
    "    category = row['Category']\n",
    "    count = row['count']\n",
    "    # Calculate the fraction based on the category size\n",
    "    fractions[category] = (count / total_records) * sample_size / count\n",
    "\n",
    "# Perform stratified sampling\n",
    "df_sampled = df.sampleBy(\"Category\", fractions, seed=42)"
   ]
  },
  {
   "cell_type": "code",
   "execution_count": 65,
   "id": "ef4f8d56",
   "metadata": {},
   "outputs": [
    {
     "name": "stderr",
     "output_type": "stream",
     "text": [
      "25/04/16 00:37:51 WARN CSVHeaderChecker: CSV header does not conform to the schema.\n",
      " Header: , BrandName, Deatils, Sizes, MRP, SellPrice, Discount, Category\n",
      " Schema: _c0, BrandName, Deatils, Sizes, MRP, SellPrice, Discount, Category\n",
      "Expected: _c0 but found: \n",
      "CSV file: file:///home/alexpy/Desktop/poridhi.io-ai-hackathon/data_processor/FashionDataset.csv\n",
      "                                                                                \r"
     ]
    },
    {
     "data": {
      "text/plain": [
       "1049"
      ]
     },
     "execution_count": 65,
     "metadata": {},
     "output_type": "execute_result"
    }
   ],
   "source": [
    "df_sampled.count()"
   ]
  },
  {
   "cell_type": "code",
   "execution_count": 30,
   "id": "e1aff5f1",
   "metadata": {},
   "outputs": [
    {
     "name": "stderr",
     "output_type": "stream",
     "text": [
      "25/04/16 01:08:11 WARN CSVHeaderChecker: CSV header does not conform to the schema.\n",
      " Header: , BrandName, Deatils, Sizes, MRP, SellPrice, Discount, Category\n",
      " Schema: _c0, BrandName, Deatils, Sizes, MRP, SellPrice, Discount, Category\n",
      "Expected: _c0 but found: \n",
      "CSV file: file:///home/alexpy/Desktop/poridhi.io-ai-hackathon/data_processor/FashionDataset.csv\n",
      "                                                                                \r"
     ]
    }
   ],
   "source": [
    "df_sampled.write.json(\"output\", mode=\"overwrite\")"
   ]
  },
  {
   "cell_type": "code",
   "execution_count": 70,
   "id": "6fd58d31",
   "metadata": {},
   "outputs": [
    {
     "name": "stderr",
     "output_type": "stream",
     "text": [
      "25/04/16 00:47:34 WARN CSVHeaderChecker: CSV header does not conform to the schema.\n",
      " Header: , BrandName, Deatils, Sizes, MRP, SellPrice, Discount, Category\n",
      " Schema: _c0, BrandName, Deatils, Sizes, MRP, SellPrice, Discount, Category\n",
      "Expected: _c0 but found: \n",
      "CSV file: file:///home/alexpy/Desktop/poridhi.io-ai-hackathon/data_processor/FashionDataset.csv\n",
      "[Stage 165:>                                                        (0 + 1) / 1]\r"
     ]
    },
    {
     "name": "stdout",
     "output_type": "stream",
     "text": [
      "+--------------------+-----+\n",
      "|            Category|count|\n",
      "+--------------------+-----+\n",
      "|      Footwear-Women|  119|\n",
      "|Lingerie&Nightwea...|  168|\n",
      "|   Westernwear-Women|  264|\n",
      "|     Fragrance-Women|   44|\n",
      "|     Jewellery-Women|   86|\n",
      "|       Watches-Women|  111|\n",
      "|    Indianwear-Women|  257|\n",
      "+--------------------+-----+\n",
      "\n"
     ]
    },
    {
     "name": "stderr",
     "output_type": "stream",
     "text": [
      "                                                                                \r"
     ]
    }
   ],
   "source": [
    "df_sampled.groupBy(\"Category\").count().show()"
   ]
  },
  {
   "cell_type": "code",
   "execution_count": 31,
   "id": "86faa07c",
   "metadata": {},
   "outputs": [],
   "source": [
    "spark.stop()"
   ]
  }
 ],
 "metadata": {
  "kernelspec": {
   "display_name": "env",
   "language": "python",
   "name": "python3"
  },
  "language_info": {
   "codemirror_mode": {
    "name": "ipython",
    "version": 3
   },
   "file_extension": ".py",
   "mimetype": "text/x-python",
   "name": "python",
   "nbconvert_exporter": "python",
   "pygments_lexer": "ipython3",
   "version": "3.10.0"
  }
 },
 "nbformat": 4,
 "nbformat_minor": 5
}
