{
 "cells": [
  {
   "cell_type": "code",
   "execution_count": 1,
   "id": "aa1cbcb3",
   "metadata": {},
   "outputs": [],
   "source": [
    "from pyspark.sql import SparkSession\n",
    "from pyspark.sql.functions import col\n"
   ]
  },
  {
   "cell_type": "code",
   "execution_count": 2,
   "id": "e29d1879",
   "metadata": {},
   "outputs": [
    {
     "name": "stderr",
     "output_type": "stream",
     "text": [
      "25/04/15 23:50:14 WARN Utils: Your hostname, indrani resolves to a loopback address: 127.0.1.1; using 192.168.0.107 instead (on interface wlo1)\n",
      "25/04/15 23:50:14 WARN Utils: Set SPARK_LOCAL_IP if you need to bind to another address\n",
      "Setting default log level to \"WARN\".\n",
      "To adjust logging level use sc.setLogLevel(newLevel). For SparkR, use setLogLevel(newLevel).\n",
      "25/04/15 23:50:14 WARN NativeCodeLoader: Unable to load native-hadoop library for your platform... using builtin-java classes where applicable\n"
     ]
    }
   ],
   "source": [
    "\n",
    "# Initialize the Spark session\n",
    "spark = SparkSession.builder \\\n",
    "    .appName(\"Fashion Dataset Cleaning\") \\\n",
    "    .getOrCreate()\n"
   ]
  },
  {
   "cell_type": "code",
   "execution_count": 3,
   "id": "907e716a",
   "metadata": {},
   "outputs": [
    {
     "name": "stderr",
     "output_type": "stream",
     "text": [
      "25/04/15 23:50:29 WARN GarbageCollectionMetrics: To enable non-built-in garbage collector(s) List(G1 Concurrent GC), users should configure it(them) to spark.eventLog.gcMetrics.youngGenerationGarbageCollectors or spark.eventLog.gcMetrics.oldGenerationGarbageCollectors\n"
     ]
    }
   ],
   "source": [
    "\n",
    "# Load the CSV data\n",
    "df = spark.read.csv(\"FashionDataset.csv\", header=True, inferSchema=True)\n"
   ]
  },
  {
   "cell_type": "code",
   "execution_count": 4,
   "id": "0a93d0e4",
   "metadata": {},
   "outputs": [
    {
     "name": "stderr",
     "output_type": "stream",
     "text": [
      "25/04/15 23:50:37 WARN CSVHeaderChecker: CSV header does not conform to the schema.\n",
      " Header: , BrandName, Deatils, Sizes, MRP, SellPrice, Discount, Category\n",
      " Schema: _c0, BrandName, Deatils, Sizes, MRP, SellPrice, Discount, Category\n",
      "Expected: _c0 but found: \n",
      "CSV file: file:///home/alexpy/Desktop/poridhi.io-ai-hackathon/data_processor/FashionDataset.csv\n"
     ]
    },
    {
     "name": "stdout",
     "output_type": "stream",
     "text": [
      "+-----+---------+--------------------+--------------------+----+---------+--------+--------+\n",
      "|  _c0|BrandName|             Deatils|               Sizes| MRP|SellPrice|Discount|Category|\n",
      "+-----+---------+--------------------+--------------------+----+---------+--------+--------+\n",
      "|    0|     life|solid cotton blen...|Size:Large,Medium...|  Rs|     NULL|    NULL|    NULL|\n",
      "|1699\"|      849|             50% off|   Westernwear-Women|NULL|     NULL|    NULL|    NULL|\n",
      "|    1|     only|polyester peter p...|    Size:34,36,38,40|  Rs|     NULL|    NULL|    NULL|\n",
      "|3499\"|     2449|             30% off|   Westernwear-Women|NULL|     NULL|    NULL|    NULL|\n",
      "|    2|  fratini|solid polyester b...|Size:Large,X-Larg...|  Rs|     NULL|    NULL|    NULL|\n",
      "+-----+---------+--------------------+--------------------+----+---------+--------+--------+\n",
      "only showing top 5 rows\n",
      "\n"
     ]
    }
   ],
   "source": [
    "\n",
    "# Show the first few rows of the dataset\n",
    "df.show(5)\n"
   ]
  },
  {
   "cell_type": "code",
   "execution_count": 5,
   "id": "baf3e2ff",
   "metadata": {},
   "outputs": [
    {
     "name": "stdout",
     "output_type": "stream",
     "text": [
      "root\n",
      " |-- _c0: string (nullable = true)\n",
      " |-- BrandName: string (nullable = true)\n",
      " |-- Deatils: string (nullable = true)\n",
      " |-- Sizes: string (nullable = true)\n",
      " |-- MRP: string (nullable = true)\n",
      " |-- SellPrice: string (nullable = true)\n",
      " |-- Discount: string (nullable = true)\n",
      " |-- Category: string (nullable = true)\n",
      "\n"
     ]
    }
   ],
   "source": [
    "df.printSchema()"
   ]
  },
  {
   "cell_type": "markdown",
   "id": "51eec61d",
   "metadata": {},
   "source": [
    "## Remove missing data"
   ]
  },
  {
   "cell_type": "code",
   "execution_count": 8,
   "id": "a8dbe86d",
   "metadata": {},
   "outputs": [],
   "source": [
    "df_cleaned = df.dropna()"
   ]
  },
  {
   "cell_type": "markdown",
   "id": "4d628e60",
   "metadata": {},
   "source": [
    "## Drop Duplicates"
   ]
  },
  {
   "cell_type": "code",
   "execution_count": 9,
   "id": "506a0ae5",
   "metadata": {},
   "outputs": [],
   "source": [
    "df_cleaned = df_cleaned.dropDuplicates()"
   ]
  },
  {
   "cell_type": "code",
   "execution_count": 10,
   "id": "32bf6735",
   "metadata": {},
   "outputs": [
    {
     "name": "stderr",
     "output_type": "stream",
     "text": [
      "25/04/15 23:53:06 WARN CSVHeaderChecker: CSV header does not conform to the schema.\n",
      " Header: , BrandName, Deatils, Sizes, MRP, SellPrice, Discount, Category\n",
      " Schema: _c0, BrandName, Deatils, Sizes, MRP, SellPrice, Discount, Category\n",
      "Expected: _c0 but found: \n",
      "CSV file: file:///home/alexpy/Desktop/poridhi.io-ai-hackathon/data_processor/FashionDataset.csv\n",
      "                                                                                \r"
     ]
    },
    {
     "data": {
      "text/plain": [
       "7014"
      ]
     },
     "execution_count": 10,
     "metadata": {},
     "output_type": "execute_result"
    }
   ],
   "source": [
    "df_cleaned.count()"
   ]
  },
  {
   "cell_type": "markdown",
   "id": "0ba68610",
   "metadata": {},
   "source": [
    "## Distict values"
   ]
  },
  {
   "cell_type": "code",
   "execution_count": 42,
   "id": "1a1b1028",
   "metadata": {},
   "outputs": [
    {
     "name": "stderr",
     "output_type": "stream",
     "text": [
      "25/04/16 00:21:59 WARN CSVHeaderChecker: CSV header does not conform to the schema.\n",
      " Header: , BrandName, Deatils, Sizes, MRP, SellPrice, Discount, Category\n",
      " Schema: _c0, BrandName, Deatils, Sizes, MRP, SellPrice, Discount, Category\n",
      "Expected: _c0 but found: \n",
      "CSV file: file:///home/alexpy/Desktop/poridhi.io-ai-hackathon/data_processor/FashionDataset.csv\n",
      "[Stage 93:>                                                         (0 + 1) / 1]\r"
     ]
    },
    {
     "name": "stdout",
     "output_type": "stream",
     "text": [
      "+--------------------+-----+\n",
      "|            Category|count|\n",
      "+--------------------+-----+\n",
      "|      Footwear-Women|  834|\n",
      "|Lingerie&Nightwea...| 1133|\n",
      "|   Westernwear-Women| 1696|\n",
      "|     Fragrance-Women|  289|\n",
      "|     Jewellery-Women|  635|\n",
      "|       Watches-Women|  750|\n",
      "|    Indianwear-Women| 1677|\n",
      "+--------------------+-----+\n",
      "\n"
     ]
    },
    {
     "name": "stderr",
     "output_type": "stream",
     "text": [
      "                                                                                \r"
     ]
    }
   ],
   "source": [
    "distinct_counts = df_cleaned.groupBy(\"Category\").count()\n",
    "distinct_counts.show()"
   ]
  },
  {
   "cell_type": "markdown",
   "id": "3a1b6a26",
   "metadata": {},
   "source": [
    "## Stop spark"
   ]
  },
  {
   "cell_type": "code",
   "execution_count": 20,
   "id": "2c9d7210",
   "metadata": {},
   "outputs": [
    {
     "name": "stderr",
     "output_type": "stream",
     "text": [
      "25/04/16 00:00:49 WARN CSVHeaderChecker: CSV header does not conform to the schema.\n",
      " Header: , BrandName, Deatils, Sizes, MRP, SellPrice, Discount, Category\n",
      " Schema: _c0, BrandName, Deatils, Sizes, MRP, SellPrice, Discount, Category\n",
      "Expected: _c0 but found: \n",
      "CSV file: file:///home/alexpy/Desktop/poridhi.io-ai-hackathon/data_processor/FashionDataset.csv\n",
      "[Stage 48:>                                                         (0 + 1) / 1]\r"
     ]
    },
    {
     "name": "stdout",
     "output_type": "stream",
     "text": [
      "+------------+---------------------------------------------------------+---------------------------------------+---------+-----------------+\n",
      "|BrandName   |Deatils                                                  |Sizes                                  |SellPrice|Category         |\n",
      "+------------+---------------------------------------------------------+---------------------------------------+---------+-----------------+\n",
      "|levis       |skinny fit regular length cotton womens jeans - dk indigo|Size:28,30,32,34                       |3699     |Westernwear-Women|\n",
      "|campus sutra|solid cotton hood womens co-ordinate set - pink          |Size:Large,Medium,Small,X-Large        |1599     |Westernwear-Women|\n",
      "|vero moda   |solid polyester collared womens  shirts - fuschia        |Size:Large,Medium,Small,X-Large,X-Small|2599     |Westernwear-Women|\n",
      "|cover story |solid polyester v neck womens dress - lilac              |Size:Large,Medium,Small,X-Large,X-Small|2890     |Westernwear-Women|\n",
      "|109f        |printed polyester round neck womens sweatshirt - maroon  |Size:Large,Medium,X-Large,XX-Large     |2499     |Westernwear-Women|\n",
      "+------------+---------------------------------------------------------+---------------------------------------+---------+-----------------+\n",
      "only showing top 5 rows\n",
      "\n"
     ]
    },
    {
     "name": "stderr",
     "output_type": "stream",
     "text": [
      "                                                                                \r"
     ]
    }
   ],
   "source": [
    "df_cleaned.show(5, False)"
   ]
  },
  {
   "cell_type": "code",
   "execution_count": 19,
   "id": "b8822480",
   "metadata": {},
   "outputs": [],
   "source": [
    "df_cleaned = df_cleaned.drop(\"_c0\", \"MRP\", \"Discount\")"
   ]
  },
  {
   "cell_type": "code",
   "execution_count": 33,
   "id": "7a74b6bd",
   "metadata": {},
   "outputs": [],
   "source": [
    "df_cleaned = df_cleaned.withColumnRenamed(\"Deatils\", \"Details\")"
   ]
  },
  {
   "cell_type": "code",
   "execution_count": 34,
   "id": "91991927",
   "metadata": {},
   "outputs": [
    {
     "name": "stdout",
     "output_type": "stream",
     "text": [
      "root\n",
      " |-- BrandName: string (nullable = true)\n",
      " |-- Details: string (nullable = true)\n",
      " |-- Sizes: string (nullable = true)\n",
      " |-- SellPrice: string (nullable = true)\n",
      " |-- Category: string (nullable = true)\n",
      "\n"
     ]
    }
   ],
   "source": [
    "df_cleaned.printSchema()"
   ]
  },
  {
   "cell_type": "code",
   "execution_count": 58,
   "id": "264a5072",
   "metadata": {},
   "outputs": [],
   "source": [
    "df_converted = df_cleaned.withColumn(\"SellPrice\", col(\"SellPrice\").cast(\"int\"))"
   ]
  },
  {
   "cell_type": "code",
   "execution_count": 59,
   "id": "5779e645",
   "metadata": {},
   "outputs": [],
   "source": [
    "df = df_converted"
   ]
  },
  {
   "cell_type": "code",
   "execution_count": 60,
   "id": "2e65ff6e",
   "metadata": {},
   "outputs": [],
   "source": [
    "# Filter out rows where 'category' is None or null\n",
    "df = df.filter(col(\"Category\").isNotNull())\n"
   ]
  },
  {
   "cell_type": "code",
   "execution_count": 61,
   "id": "c6555c5e",
   "metadata": {},
   "outputs": [
    {
     "name": "stderr",
     "output_type": "stream",
     "text": [
      "25/04/16 00:36:56 WARN CSVHeaderChecker: CSV header does not conform to the schema.\n",
      " Header: , BrandName, Deatils, Sizes, MRP, SellPrice, Discount, Category\n",
      " Schema: _c0, BrandName, Deatils, Sizes, MRP, SellPrice, Discount, Category\n",
      "Expected: _c0 but found: \n",
      "CSV file: file:///home/alexpy/Desktop/poridhi.io-ai-hackathon/data_processor/FashionDataset.csv\n",
      "                                                                                \r"
     ]
    },
    {
     "data": {
      "text/plain": [
       "7014"
      ]
     },
     "execution_count": 61,
     "metadata": {},
     "output_type": "execute_result"
    }
   ],
   "source": [
    "df.count()"
   ]
  },
  {
   "cell_type": "code",
   "execution_count": 62,
   "id": "449fc872",
   "metadata": {},
   "outputs": [
    {
     "name": "stderr",
     "output_type": "stream",
     "text": [
      "25/04/16 00:37:00 WARN CSVHeaderChecker: CSV header does not conform to the schema.\n",
      " Header: , BrandName, Deatils, Sizes, MRP, SellPrice, Discount, Category\n",
      " Schema: _c0, BrandName, Deatils, Sizes, MRP, SellPrice, Discount, Category\n",
      "Expected: _c0 but found: \n",
      "CSV file: file:///home/alexpy/Desktop/poridhi.io-ai-hackathon/data_processor/FashionDataset.csv\n",
      "25/04/16 00:37:00 WARN CSVHeaderChecker: CSV header does not conform to the schema.\n",
      " Header: , BrandName, Deatils, Sizes, MRP, SellPrice, Discount, Category\n",
      " Schema: _c0, BrandName, Deatils, Sizes, MRP, SellPrice, Discount, Category\n",
      "Expected: _c0 but found: \n",
      "CSV file: file:///home/alexpy/Desktop/poridhi.io-ai-hackathon/data_processor/FashionDataset.csv\n",
      "                                                                                \r"
     ]
    }
   ],
   "source": [
    "\n",
    "# Get the total number of records\n",
    "total_records = df.count()\n",
    "\n",
    "# Number of records you want to pick\n",
    "sample_size = 1000\n",
    "\n",
    "# Get the count of records per category\n",
    "category_counts = df.groupBy(\"Category\").count().collect()\n"
   ]
  },
  {
   "cell_type": "code",
   "execution_count": 63,
   "id": "37ba03a3",
   "metadata": {},
   "outputs": [],
   "source": [
    "# Calculate the fraction for each category based on its proportion in the total dataset\n",
    "fractions = {}\n",
    "for row in category_counts:\n",
    "    category = row['Category']\n",
    "    count = row['count']\n",
    "    # Calculate the fraction based on the category size\n",
    "    fractions[category] = (count / total_records) * sample_size / count\n",
    "\n",
    "# Perform stratified sampling\n",
    "df_sampled = df.sampleBy(\"Category\", fractions, seed=42)"
   ]
  },
  {
   "cell_type": "code",
   "execution_count": 65,
   "id": "ef4f8d56",
   "metadata": {},
   "outputs": [
    {
     "name": "stderr",
     "output_type": "stream",
     "text": [
      "25/04/16 00:37:51 WARN CSVHeaderChecker: CSV header does not conform to the schema.\n",
      " Header: , BrandName, Deatils, Sizes, MRP, SellPrice, Discount, Category\n",
      " Schema: _c0, BrandName, Deatils, Sizes, MRP, SellPrice, Discount, Category\n",
      "Expected: _c0 but found: \n",
      "CSV file: file:///home/alexpy/Desktop/poridhi.io-ai-hackathon/data_processor/FashionDataset.csv\n",
      "                                                                                \r"
     ]
    },
    {
     "data": {
      "text/plain": [
       "1049"
      ]
     },
     "execution_count": 65,
     "metadata": {},
     "output_type": "execute_result"
    }
   ],
   "source": [
    "df_sampled.count()"
   ]
  },
  {
   "cell_type": "code",
   "execution_count": 69,
   "id": "e1aff5f1",
   "metadata": {},
   "outputs": [
    {
     "name": "stderr",
     "output_type": "stream",
     "text": [
      "25/04/16 00:46:41 WARN CSVHeaderChecker: CSV header does not conform to the schema.\n",
      " Header: , BrandName, Deatils, Sizes, MRP, SellPrice, Discount, Category\n",
      " Schema: _c0, BrandName, Deatils, Sizes, MRP, SellPrice, Discount, Category\n",
      "Expected: _c0 but found: \n",
      "CSV file: file:///home/alexpy/Desktop/poridhi.io-ai-hackathon/data_processor/FashionDataset.csv\n",
      "                                                                                \r"
     ]
    }
   ],
   "source": [
    "df_sampled.write.json(\"output\", mode=\"overwrite\")"
   ]
  },
  {
   "cell_type": "code",
   "execution_count": 70,
   "id": "6fd58d31",
   "metadata": {},
   "outputs": [
    {
     "name": "stderr",
     "output_type": "stream",
     "text": [
      "25/04/16 00:47:34 WARN CSVHeaderChecker: CSV header does not conform to the schema.\n",
      " Header: , BrandName, Deatils, Sizes, MRP, SellPrice, Discount, Category\n",
      " Schema: _c0, BrandName, Deatils, Sizes, MRP, SellPrice, Discount, Category\n",
      "Expected: _c0 but found: \n",
      "CSV file: file:///home/alexpy/Desktop/poridhi.io-ai-hackathon/data_processor/FashionDataset.csv\n",
      "[Stage 165:>                                                        (0 + 1) / 1]\r"
     ]
    },
    {
     "name": "stdout",
     "output_type": "stream",
     "text": [
      "+--------------------+-----+\n",
      "|            Category|count|\n",
      "+--------------------+-----+\n",
      "|      Footwear-Women|  119|\n",
      "|Lingerie&Nightwea...|  168|\n",
      "|   Westernwear-Women|  264|\n",
      "|     Fragrance-Women|   44|\n",
      "|     Jewellery-Women|   86|\n",
      "|       Watches-Women|  111|\n",
      "|    Indianwear-Women|  257|\n",
      "+--------------------+-----+\n",
      "\n"
     ]
    },
    {
     "name": "stderr",
     "output_type": "stream",
     "text": [
      "                                                                                \r"
     ]
    }
   ],
   "source": [
    "df_sampled.groupBy(\"Category\").count().show()"
   ]
  },
  {
   "cell_type": "code",
   "execution_count": 71,
   "id": "86faa07c",
   "metadata": {},
   "outputs": [],
   "source": [
    "spark.stop()"
   ]
  }
 ],
 "metadata": {
  "kernelspec": {
   "display_name": "venv",
   "language": "python",
   "name": "python3"
  },
  "language_info": {
   "codemirror_mode": {
    "name": "ipython",
    "version": 3
   },
   "file_extension": ".py",
   "mimetype": "text/x-python",
   "name": "python",
   "nbconvert_exporter": "python",
   "pygments_lexer": "ipython3",
   "version": "3.10.0"
  }
 },
 "nbformat": 4,
 "nbformat_minor": 5
}
